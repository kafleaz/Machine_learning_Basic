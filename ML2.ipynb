{
 "cells": [
  {
   "cell_type": "markdown",
   "id": "02ac0a65-8fd9-403b-88c1-e669be79c341",
   "metadata": {},
   "source": [
    "#### Loading data\n"
   ]
  },
  {
   "cell_type": "code",
   "execution_count": null,
   "id": "51998638-bdc8-4e80-8cec-2eda9e8bec84",
   "metadata": {},
   "outputs": [],
   "source": [
    "import pandas as pd\n",
    "data = pd.read_csv('Data.csv')"
   ]
  },
  {
   "cell_type": "markdown",
   "id": "3d312c10-9582-4011-aa44-2c65a0d0a824",
   "metadata": {},
   "source": [
    "#### Exploaring Data"
   ]
  },
  {
   "cell_type": "code",
   "execution_count": null,
   "id": "a3bf3180-2ebc-4e0c-a8d1-f5f64e7951ad",
   "metadata": {},
   "outputs": [],
   "source": [
    "data.head()"
   ]
  },
  {
   "cell_type": "code",
   "execution_count": null,
   "id": "1331b4bf-705b-4626-bf7d-4d8cbf9b1ebd",
   "metadata": {},
   "outputs": [],
   "source": [
    "data.info()"
   ]
  },
  {
   "cell_type": "code",
   "execution_count": null,
   "id": "2797e425-c491-45f9-8096-57ff0c4d776f",
   "metadata": {},
   "outputs": [],
   "source": [
    "data.describe()"
   ]
  },
  {
   "cell_type": "code",
   "execution_count": null,
   "id": "b343a16b-c24d-4ce3-bfa8-9ad27c9097be",
   "metadata": {},
   "outputs": [],
   "source": [
    "data.shape"
   ]
  },
  {
   "cell_type": "code",
   "execution_count": null,
   "id": "aa3f3e37-2518-4c90-bf95-6cd32b09dd29",
   "metadata": {},
   "outputs": [],
   "source": [
    "data.groupby('Purchased').size()"
   ]
  },
  {
   "cell_type": "code",
   "execution_count": null,
   "id": "d7834bdf-c205-4001-87ef-2cc086039381",
   "metadata": {},
   "outputs": [],
   "source": [
    "data.groupby('Purchased').mean()"
   ]
  },
  {
   "cell_type": "markdown",
   "id": "d51622a0-352a-4a8f-9aae-7e263037420d",
   "metadata": {},
   "source": [
    "#### Data Visualization"
   ]
  },
  {
   "cell_type": "code",
   "execution_count": null,
   "id": "2a8fa33a-166a-4429-9404-9567397b9c4f",
   "metadata": {},
   "outputs": [],
   "source": [
    "import seaborn as sns"
   ]
  },
  {
   "cell_type": "code",
   "execution_count": null,
   "id": "4a3dc046-302f-423d-bd51-b87651cd9109",
   "metadata": {},
   "outputs": [],
   "source": [
    "sns.pairplot(data,hue=\"Purchased\")"
   ]
  },
  {
   "cell_type": "markdown",
   "id": "6c2bc8db-1b64-4f1e-921d-b56538393215",
   "metadata": {},
   "source": [
    "#### Model construction and Evaluation"
   ]
  },
  {
   "cell_type": "code",
   "execution_count": null,
   "id": "cf0fb3cc-5159-4b9f-a52d-6cd77c68b4cd",
   "metadata": {},
   "outputs": [],
   "source": [
    "# Importing metrics for evaluation\n",
    "from sklearn.metrics import confusion_matrix\n",
    "from sklearn.metrics import classification_report"
   ]
  },
  {
   "cell_type": "code",
   "execution_count": null,
   "id": "880798d7-2810-4b3b-b9cd-80c5c5d56bec",
   "metadata": {},
   "outputs": [],
   "source": [
    "# Seperating the data into dependent and independent variables\n",
    "X = data.iloc[:, :-1].values\n",
    "y = data.iloc[:, -1].values"
   ]
  },
  {
   "cell_type": "code",
   "execution_count": null,
   "id": "c720fc0e-ba7b-464a-bced-5d3d3f074a2e",
   "metadata": {},
   "outputs": [],
   "source": [
    "from sklearn.compose import ColumnTransformer\n",
    "from sklearn.preprocessing import OneHotEncoder\n",
    "import numpy as np\n",
    "ct = ColumnTransformer(transformers=[('encoder', OneHotEncoder(), [0])], remainder='passthrough')\n",
    "X = np.array(ct.fit_transform(X))"
   ]
  },
  {
   "cell_type": "code",
   "execution_count": null,
   "id": "dc4b9b7e-4163-45d7-be6a-94d2f1500a25",
   "metadata": {},
   "outputs": [],
   "source": [
    "print(X)"
   ]
  },
  {
   "cell_type": "markdown",
   "id": "973defe4-28d6-452d-bb51-ccaabf69f1d9",
   "metadata": {},
   "source": [
    "from sklearn.preprocessing import LabelEncoder\n",
    "le = LabelEncoder()\n",
    "y = le.fit_transform(y)"
   ]
  },
  {
   "cell_type": "markdown",
   "id": "c6417486-5d09-4f56-ab25-988568e35478",
   "metadata": {},
   "source": [
    "print(y)"
   ]
  },
  {
   "cell_type": "code",
   "execution_count": null,
   "id": "3332e7fd-d369-4fb9-85eb-62921d9f5243",
   "metadata": {},
   "outputs": [],
   "source": []
  },
  {
   "cell_type": "code",
   "execution_count": null,
   "id": "2b4a4c70-bf13-451e-ae97-217d29e3fc7a",
   "metadata": {},
   "outputs": [],
   "source": [
    "# Splitting the dataset into the Training set and Test set\n",
    "from sklearn.model_selection import train_test_split\n",
    "X_train, X_test, y_train, y_test = train_test_split(X, y, test_size = 0.5, random_state = 0)"
   ]
  },
  {
   "cell_type": "code",
   "execution_count": null,
   "id": "ce326394-703f-4f90-af5c-f6aadc1c49bd",
   "metadata": {},
   "outputs": [],
   "source": [
    "from sklearn.preprocessing import StandardScaler\n",
    "sc = StandardScaler()\n",
    "X_train = sc.fit_transform(X_train)\n",
    "X_test = sc.transform(X_test)"
   ]
  },
  {
   "cell_type": "code",
   "execution_count": null,
   "id": "c4d9c75d-efef-46b9-9315-ea1f178f3f4a",
   "metadata": {},
   "outputs": [],
   "source": [
    "print(X_test)"
   ]
  },
  {
   "cell_type": "code",
   "execution_count": null,
   "id": "d528d954-cfe1-420d-9a78-179a39f188ca",
   "metadata": {},
   "outputs": [],
   "source": [
    "# Naive Bayes\n",
    "from sklearn.naive_bayes import GaussianNB\n",
    "classifier = GaussianNB()\n",
    "classifier.fit(X_train, y_train)\n",
    "\n",
    "y_pred = classifier.predict(X_test)"
   ]
  },
  {
   "cell_type": "code",
   "execution_count": null,
   "id": "86a0e0f2-04e3-4ae7-9e3d-0ac99a156e4f",
   "metadata": {},
   "outputs": [],
   "source": [
    "print(classification_report(y_test, y_pred))\n",
    "print(confusion_matrix(y_test, y_pred))"
   ]
  },
  {
   "cell_type": "code",
   "execution_count": null,
   "id": "6b40d6c3-3272-4eaf-ade7-1c6c1daa5bba",
   "metadata": {},
   "outputs": [],
   "source": [
    "# Accuracy score\n",
    "from sklearn.metrics import accuracy_score\n",
    "print('accuracy is',accuracy_score(y_pred,y_test))"
   ]
  },
  {
   "cell_type": "code",
   "execution_count": null,
   "id": "132992b5-629b-4adb-91b6-b8a4545f91f0",
   "metadata": {
    "tags": []
   },
   "outputs": [],
   "source": [
    "## Prediction for user input\n",
    "c= input(\"Enter country: \")\n",
    "a= input(\"Enter age: \")\n",
    "s= input(\"Enter Salary: \")\n",
    "def newPred(c,a,s):\n",
    "    npArray=[[c,a,s,1,0]]\n",
    "    print(npArray)\n",
    "    npArray = np.array(ct.fit_transform(npArray))\n",
    "    print(npArray)\n",
    "    npArray = sc.transform(npArray)\n",
    "    print(classifier.predict(npArray))\n",
    "newPred(c,a,s)"
   ]
  }
 ],
 "metadata": {
  "kernelspec": {
   "display_name": "Python 3 (ipykernel)",
   "language": "python",
   "name": "python3"
  },
  "language_info": {
   "codemirror_mode": {
    "name": "ipython",
    "version": 3
   },
   "file_extension": ".py",
   "mimetype": "text/x-python",
   "name": "python",
   "nbconvert_exporter": "python",
   "pygments_lexer": "ipython3",
   "version": "3.11.2"
  }
 },
 "nbformat": 4,
 "nbformat_minor": 5
}
